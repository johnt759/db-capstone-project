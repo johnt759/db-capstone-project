{
 "cells": [
  {
   "cell_type": "markdown",
   "id": "5f2ec930",
   "metadata": {},
   "source": [
    "# Meta Database Engineer Capstone Project\n",
    "## Little Lemon Database Client\n",
    "### By John Tu"
   ]
  },
  {
   "cell_type": "markdown",
   "id": "ba463a48",
   "metadata": {},
   "source": [
    "# Setting up the MySQL connection"
   ]
  },
  {
   "cell_type": "code",
   "execution_count": 1,
   "id": "e708289b",
   "metadata": {},
   "outputs": [
    {
     "name": "stdout",
     "output_type": "stream",
     "text": [
      "Requirement already satisfied: mysql-connector-python in c:\\programdata\\anaconda3\\lib\\site-packages (8.1.0)\n",
      "Requirement already satisfied: protobuf<=4.21.12,>=4.21.1 in c:\\programdata\\anaconda3\\lib\\site-packages (from mysql-connector-python) (4.21.12)\n"
     ]
    }
   ],
   "source": [
    "!pip install mysql-connector-python"
   ]
  },
  {
   "cell_type": "code",
   "execution_count": 2,
   "id": "185ffef0",
   "metadata": {},
   "outputs": [],
   "source": [
    "import mysql.connector as connector"
   ]
  },
  {
   "cell_type": "code",
   "execution_count": 3,
   "id": "a442f1cd",
   "metadata": {},
   "outputs": [],
   "source": [
    "connection = connector.connect(user = \"newuser\", password = \"L3ftF0urD3@d\", db=\"littlelemondb\")"
   ]
  },
  {
   "cell_type": "code",
   "execution_count": 4,
   "id": "89e3a2bb",
   "metadata": {},
   "outputs": [
    {
     "name": "stdout",
     "output_type": "stream",
     "text": [
      "Now using littlelemondb database.\n"
     ]
    }
   ],
   "source": [
    "print(\"Now using littlelemondb database.\")"
   ]
  },
  {
   "cell_type": "markdown",
   "id": "6950ce8d",
   "metadata": {},
   "source": [
    "# Showing all tables inside the database"
   ]
  },
  {
   "cell_type": "code",
   "execution_count": 5,
   "id": "d1c2b168",
   "metadata": {},
   "outputs": [],
   "source": [
    "cursor = connection.cursor()"
   ]
  },
  {
   "cell_type": "code",
   "execution_count": 6,
   "id": "95324ad9",
   "metadata": {},
   "outputs": [],
   "source": [
    "show_tables_query = \"SHOW tables\"\n",
    "cursor.execute(show_tables_query)"
   ]
  },
  {
   "cell_type": "code",
   "execution_count": 7,
   "id": "bb1de953",
   "metadata": {},
   "outputs": [
    {
     "name": "stdout",
     "output_type": "stream",
     "text": [
      "[('bookings',), ('customers',), ('deliveries',), ('menu',), ('orders',), ('ordersview',), ('staff',)]\n"
     ]
    }
   ],
   "source": [
    "results = cursor.fetchall()\n",
    "print(results)"
   ]
  },
  {
   "cell_type": "markdown",
   "id": "97c0bb14",
   "metadata": {},
   "source": [
    "# A query that JOINs all tables together\n",
    "## Specifically, retrieve all the names and contact information from all customers with the order total greater than $60."
   ]
  },
  {
   "cell_type": "code",
   "execution_count": 8,
   "id": "1f31fd19",
   "metadata": {},
   "outputs": [],
   "source": [
    "join_query = \"\"\"SELECT customers.CustomerName, customers.PhoneNumber, customers.EmailAddress, orders.TotalCost\n",
    "FROM customers INNER JOIN orders ON customers.CustomerID = orders.CustomerID WHERE orders.TotalCost > 60;\"\"\"\n",
    "cursor.execute(join_query)"
   ]
  },
  {
   "cell_type": "code",
   "execution_count": 9,
   "id": "880dbd9c",
   "metadata": {},
   "outputs": [],
   "source": [
    "results = cursor.fetchall()"
   ]
  },
  {
   "cell_type": "code",
   "execution_count": 10,
   "id": "b19b128e",
   "metadata": {},
   "outputs": [
    {
     "name": "stdout",
     "output_type": "stream",
     "text": [
      "Showing all customers and their contact information with order total greater than $60.\n"
     ]
    }
   ],
   "source": [
    "print(\"Showing all customers and their contact information with order total greater than $60.\")"
   ]
  },
  {
   "cell_type": "code",
   "execution_count": 12,
   "id": "68e1631c",
   "metadata": {},
   "outputs": [
    {
     "name": "stdout",
     "output_type": "stream",
     "text": [
      "Name: Anna Iversen   Phone Number: 7190552422   Email: anna.iversen@inbox.com   Order Total: $178\n",
      "Name: Joakim Iversen   Phone Number: 5809110094   Email: joakim.iversen@inbox.com   Order Total: $138\n",
      "Name: Vanessa McCarthy   Phone Number: 2628989067   Email: vanessamccarthy@inbox.com   Order Total: $153\n",
      "Name: Marcos Romero   Phone Number: 8302904223   Email: marcosr@inbox.com   Order Total: $176\n",
      "Name: Hiroki Yamane   Phone Number: 2698762250   Email: yamanehiroki@inbox.com   Order Total: $171\n",
      "Name: Diana Pinto   Phone Number: 8178965899   Email: dianap@inbox.com   Order Total: $194\n",
      "Name: Hugo Berntsen   Phone Number: 9036217094   Email: hugob@inbox.com   Order Total: $193\n",
      "Name: Lucia Sepp   Phone Number: 4076926489   Email: lucia.sepp@inbox.com   Order Total: $108\n",
      "Name: Julien Bauers   Phone Number: 3216422685   Email: julienb@inbox.com   Order Total: $128\n",
      "Name: Linda Atkins   Phone Number: 9365687473   Email: lindaatkins@inbox.com   Order Total: $173\n",
      "Name: Edith Upton   Phone Number: 7251114382   Email: edith.upton@inbox.com   Order Total: $109\n",
      "Name: Daniel Thomassen   Phone Number: 2014740093   Email: daniel.t@inbox.com   Order Total: $193\n"
     ]
    }
   ],
   "source": [
    "for row in results:\n",
    "    print(\"Name: {}   Phone Number: {}   Email: {}   Order Total: ${}\".format(row[0], row[1], row[2], row[3]))"
   ]
  },
  {
   "cell_type": "code",
   "execution_count": 13,
   "id": "1d830d56",
   "metadata": {},
   "outputs": [
    {
     "name": "stdout",
     "output_type": "stream",
     "text": [
      "MySQL connection is closed.\n"
     ]
    }
   ],
   "source": [
    "cursor.close()\n",
    "connection.close()\n",
    "print(\"MySQL connection is closed.\")"
   ]
  },
  {
   "cell_type": "code",
   "execution_count": null,
   "id": "d1c6f338",
   "metadata": {},
   "outputs": [],
   "source": []
  }
 ],
 "metadata": {
  "kernelspec": {
   "display_name": "Python 3 (ipykernel)",
   "language": "python",
   "name": "python3"
  },
  "language_info": {
   "codemirror_mode": {
    "name": "ipython",
    "version": 3
   },
   "file_extension": ".py",
   "mimetype": "text/x-python",
   "name": "python",
   "nbconvert_exporter": "python",
   "pygments_lexer": "ipython3",
   "version": "3.9.7"
  }
 },
 "nbformat": 4,
 "nbformat_minor": 5
}
